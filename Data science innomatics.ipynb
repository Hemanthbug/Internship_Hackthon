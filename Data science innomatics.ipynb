{
 "cells": [
  {
   "cell_type": "code",
   "execution_count": 1,
   "id": "ccde6e20",
   "metadata": {},
   "outputs": [],
   "source": [
    "import numpy as np"
   ]
  },
  {
   "cell_type": "code",
   "execution_count": 2,
   "id": "2830df79",
   "metadata": {},
   "outputs": [],
   "source": [
    "import pandas as pd"
   ]
  },
  {
   "cell_type": "code",
   "execution_count": 3,
   "id": "203b4470",
   "metadata": {},
   "outputs": [
    {
     "name": "stdout",
     "output_type": "stream",
     "text": [
      "(9742, 3)\n"
     ]
    }
   ],
   "source": [
    "file_path = \"movies.csv\"\n",
    "movies_df = pd.read_csv(file_path)\n",
    "print(movies_df.shape)\n"
   ]
  },
  {
   "cell_type": "code",
   "execution_count": 4,
   "id": "d4e61dad",
   "metadata": {},
   "outputs": [
    {
     "name": "stdout",
     "output_type": "stream",
     "text": [
      "(100836, 4)\n"
     ]
    }
   ],
   "source": [
    "file_path = \"ratings.csv\"\n",
    "ratings_df = pd.read_csv(file_path)\n",
    "print(ratings_df.shape)\n"
   ]
  },
  {
   "cell_type": "code",
   "execution_count": 5,
   "id": "ec439933",
   "metadata": {},
   "outputs": [
    {
     "name": "stdout",
     "output_type": "stream",
     "text": [
      "Number of unique userId values: 610\n"
     ]
    }
   ],
   "source": [
    "file_path = \"ratings.csv\"\n",
    "ratings_df = pd.read_csv(file_path)\n",
    "\n",
    "unique_user_ids = ratings_df['userId'].nunique()\n",
    "\n",
    "print(\"Number of unique userId values:\", unique_user_ids)\n"
   ]
  },
  {
   "cell_type": "code",
   "execution_count": 7,
   "id": "680722eb",
   "metadata": {},
   "outputs": [
    {
     "name": "stdout",
     "output_type": "stream",
     "text": [
      "Movie with the maximum number of user ratings: 356\n"
     ]
    }
   ],
   "source": [
    "max_ratings_movie = ratings_df.groupby('movieId')['rating'].count().idxmax()\n",
    "print(\"Movie with the maximum number of user ratings:\", max_ratings_movie)\n"
   ]
  },
  {
   "cell_type": "markdown",
   "id": "f9fc0882",
   "metadata": {},
   "source": [
    "# merging all the dataset with primary key "
   ]
  },
  {
   "cell_type": "code",
   "execution_count": 30,
   "id": "5a698415",
   "metadata": {},
   "outputs": [
    {
     "name": "stdout",
     "output_type": "stream",
     "text": [
      "   userId_x  movieId  rating  timestamp_x  userId_y    tag   timestamp_y   \n",
      "0         1        1     4.0    964982703     336.0  pixar  1.139046e+09  \\\n",
      "1         1        1     4.0    964982703     474.0  pixar  1.137207e+09   \n",
      "2         1        1     4.0    964982703     567.0    fun  1.525286e+09   \n",
      "3         1        3     4.0    964981247     289.0  moldy  1.143425e+09   \n",
      "4         1        3     4.0    964981247     289.0    old  1.143425e+09   \n",
      "\n",
      "   imdbId   tmdbId                    title   \n",
      "0  114709    862.0         Toy Story (1995)  \\\n",
      "1  114709    862.0         Toy Story (1995)   \n",
      "2  114709    862.0         Toy Story (1995)   \n",
      "3  113228  15602.0  Grumpier Old Men (1995)   \n",
      "4  113228  15602.0  Grumpier Old Men (1995)   \n",
      "\n",
      "                                        genres  \n",
      "0  Adventure|Animation|Children|Comedy|Fantasy  \n",
      "1  Adventure|Animation|Children|Comedy|Fantasy  \n",
      "2  Adventure|Animation|Children|Comedy|Fantasy  \n",
      "3                               Comedy|Romance  \n",
      "4                               Comedy|Romance  \n"
     ]
    }
   ],
   "source": [
    "import pandas as pd\n",
    "ratings_df = pd.read_csv('ratings.csv')\n",
    "tags_df = pd.read_csv('tags.csv')\n",
    "links_df = pd.read_csv('links.csv')\n",
    "movies_df = pd.read_csv('movies.csv')\n",
    "\n",
    "merged_df = pd.merge(ratings_df, tags_df, on='movieId', how='left')\n",
    "merged_df = pd.merge(merged_df, links_df, on='movieId', how='left')\n",
    "\n",
    "final_merged_df = pd.merge(merged_df, movies_df, on='movieId', how='left')\n",
    "\n",
    "print(final_merged_df.head())\n"
   ]
  },
  {
   "cell_type": "code",
   "execution_count": 33,
   "id": "32775da9",
   "metadata": {},
   "outputs": [
    {
     "name": "stdout",
     "output_type": "stream",
     "text": [
      "The tags for 'Matrix, The (1999)' are:\n",
      "['martial arts', 'sci-fi', 'alternate universe', 'philosophy', 'post apocalyptic']\n"
     ]
    }
   ],
   "source": [
    "tags_df = pd.read_csv('tags.csv')\n",
    "movies_df = pd.read_csv('movies.csv')\n",
    "\n",
    "matrix_movie_id = movies_df[movies_df['title'] == 'Matrix, The (1999)']['movieId'].iloc[0]\n",
    "matrix_tags = tags_df[tags_df['movieId'] == matrix_movie_id]['tag']\n",
    "print(f\"The tags for 'Matrix, The (1999)' are:\")\n",
    "print(matrix_tags.tolist())\n"
   ]
  },
  {
   "cell_type": "code",
   "execution_count": 34,
   "id": "b107f848",
   "metadata": {},
   "outputs": [
    {
     "name": "stdout",
     "output_type": "stream",
     "text": [
      "The average user rating for 'Terminator 2: Judgment Day (1991)' is: 3.97\n"
     ]
    }
   ],
   "source": [
    "import pandas as pd\n",
    "ratings_df = pd.read_csv('ratings.csv')\n",
    "movies_df = pd.read_csv('movies.csv')\n",
    "terminator2_movie_id = movies_df[movies_df['title'] == 'Terminator 2: Judgment Day (1991)']['movieId'].iloc[0]\n",
    "average_rating_terminator2 = ratings_df[ratings_df['movieId'] == terminator2_movie_id]['rating'].mean()\n",
    "print(f\"The average user rating for 'Terminator 2: Judgment Day (1991)' is: {average_rating_terminator2:.2f}\")\n"
   ]
  },
  {
   "cell_type": "code",
   "execution_count": 36,
   "id": "0b47d2c8",
   "metadata": {},
   "outputs": [
    {
     "data": {
      "image/png": "[encoded data removed]",
      "text/plain": [
       "<Figure size 640x480 with 1 Axes>"
      ]
     },
     "metadata": {},
     "output_type": "display_data"
    }
   ],
   "source": [
    "import pandas as pd\n",
    "import matplotlib.pyplot as plt\n",
    "\n",
    "ratings_df = pd.read_csv('ratings.csv')\n",
    "movies_df = pd.read_csv('movies.csv')\n",
    "\n",
    "fight_club_movie_id = movies_df[movies_df['title'] == 'Fight Club (1999)']['movieId'].iloc[0]\n",
    "fight_club_ratings = ratings_df[ratings_df['movieId'] == fight_club_movie_id]['rating']\n",
    "plt.hist(fight_club_ratings, bins=5, edgecolor='black')\n",
    "plt.title('User Ratings Distribution for Fight Club (1999)')\n",
    "plt.xlabel('Rating')\n",
    "plt.ylabel('Number of Users')\n",
    "plt.show()\n"
   ]
  },
  {
   "cell_type": "code",
   "execution_count": 37,
   "id": "4989cdc5",
   "metadata": {},
   "outputs": [
    {
     "name": "stdout",
     "output_type": "stream",
     "text": [
      "The most popular movie based on average user ratings is: Lamerica (1994)\n"
     ]
    }
   ],
   "source": [
    "ratings_df = pd.read_csv('ratings.csv')\n",
    "movies_df = pd.read_csv('movies.csv')\n",
    "\n",
    "average_ratings = ratings_df.groupby('movieId')['rating'].mean()\n",
    "\n",
    "most_popular_movie_id = average_ratings.idxmax()\n",
    "\n",
    "most_popular_movie_title = movies_df[movies_df['movieId'] == most_popular_movie_id]['title'].iloc[0]\n",
    "\n",
    "print(f\"The most popular movie based on average user ratings is: {most_popular_movie_title}\")\n"
   ]
  },
  {
   "cell_type": "code",
   "execution_count": 38,
   "id": "09288688",
   "metadata": {},
   "outputs": [
    {
     "name": "stdout",
     "output_type": "stream",
     "text": [
      "Top 5 popular movies based on the number of user ratings:\n",
      "['Pulp Fiction (1994)', 'Shawshank Redemption, The (1994)', 'Forrest Gump (1994)', 'Silence of the Lambs, The (1991)', 'Matrix, The (1999)']\n"
     ]
    }
   ],
   "source": [
    "ratings_df = pd.read_csv('ratings.csv')\n",
    "movies_df = pd.read_csv('movies.csv')\n",
    "ratings_count = ratings_df['movieId'].value_counts()\n",
    "top_5_movies = ratings_count.head(5)\n",
    "top_5_movie_titles = movies_df[movies_df['movieId'].isin(top_5_movies.index)]['title']\n",
    "print(\"Top 5 popular movies based on the number of user ratings:\")\n",
    "print(top_5_movie_titles.tolist())\n"
   ]
  },
  {
   "cell_type": "code",
   "execution_count": 39,
   "id": "e1930c8f",
   "metadata": {},
   "outputs": [
    {
     "name": "stdout",
     "output_type": "stream",
     "text": [
      "The third most popular Sci-Fi movie based on the number of user ratings is: Jurassic Park (1993)\n"
     ]
    }
   ],
   "source": [
    "ratings_df = pd.read_csv('ratings.csv')\n",
    "movies_df = pd.read_csv('movies.csv')\n",
    "merged_df = pd.merge(ratings_df, movies_df, on='movieId', how='left')\n",
    "sci_fi_movies = merged_df[merged_df['genres'].str.contains('Sci-Fi')]\n",
    "\n",
    "ratings_count_sci_fi = sci_fi_movies['movieId'].value_counts()\n",
    "third_most_popular_sci_fi_movie_id = ratings_count_sci_fi.index[2]\n",
    "third_most_popular_sci_fi_movie_title = movies_df[movies_df['movieId'] == third_most_popular_sci_fi_movie_id]['title'].iloc[0]\n",
    "\n",
    "print(f\"The third most popular Sci-Fi movie based on the number of user ratings is: {third_most_popular_sci_fi_movie_title}\")\n"
   ]
  },
  {
   "cell_type": "code",
   "execution_count": null,
   "id": "816c56d1",
   "metadata": {},
   "outputs": [],
   "source": []
  }
 ],
 "metadata": {
  "kernelspec": {
   "display_name": "Python 3 (ipykernel)",
   "language": "python",
   "name": "python3"
  },
  "language_info": {
   "codemirror_mode": {
    "name": "ipython",
    "version": 3
   },
   "file_extension": ".py",
   "mimetype": "text/x-python",
   "name": "python",
   "nbconvert_exporter": "python",
   "pygments_lexer": "ipython3",
   "version": "3.10.10"
  }
 },
 "nbformat": 4,
 "nbformat_minor": 5
}
